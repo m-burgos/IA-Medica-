{
 "cells": [
  {
   "cell_type": "code",
   "execution_count": 1,
   "id": "22a3f7dc",
   "metadata": {},
   "outputs": [],
   "source": [
    "import cv2\n",
    "import os, sys\n",
    "from helpers import *\n",
    "import numpy as np\n",
    "from openslide import OpenSlide\n",
    "\n",
    "PATH = '/home/user/Documentos/HHHA-2018-01895_Dr.JCA'  #carpeta con las imagenes!\n",
    "COLOR = {'R': 255, 'V': 65408, 'C': 16776960} #rojo/verde/celeste"
   ]
  },
  {
   "cell_type": "code",
   "execution_count": 2,
   "id": "3f7d70c4",
   "metadata": {},
   "outputs": [
    {
     "data": {
      "text/plain": [
       "['HHHA-2018-01895 A1 20-60.xml',\n",
       " 'HHHA-2018-01895 B1 20-60.xml',\n",
       " 'HHHA-2018-01895 B2 00-40.xml']"
      ]
     },
     "execution_count": 2,
     "metadata": {},
     "output_type": "execute_result"
    }
   ],
   "source": [
    "files = filenames(PATH, 'xml')\n",
    "files"
   ]
  },
  {
   "cell_type": "code",
   "execution_count": 3,
   "id": "b6d4e13f",
   "metadata": {},
   "outputs": [],
   "source": [
    "def read_svs(path, fn):\n",
    "    return OpenSlide(os.path.join(path, fn[:-3] + 'svs'))"
   ]
  },
  {
   "cell_type": "markdown",
   "id": "c086103c",
   "metadata": {},
   "source": [
    "Con la forma anterior, nos aseguramos que solo leeremos aquellos *svs* que cuenten con *xml* "
   ]
  },
  {
   "cell_type": "code",
   "execution_count": 4,
   "id": "19337192",
   "metadata": {},
   "outputs": [
    {
     "data": {
      "text/plain": [
       "(73800, 18271)"
      ]
     },
     "execution_count": 4,
     "metadata": {},
     "output_type": "execute_result"
    }
   ],
   "source": [
    "n = 1\n",
    "slide = read_svs(PATH, files[n])\n",
    "slide.dimensions"
   ]
  },
  {
   "cell_type": "code",
   "execution_count": 5,
   "id": "ae24fcd8",
   "metadata": {},
   "outputs": [
    {
     "data": {
      "text/plain": [
       "(494, 32745, 0, 16290)"
      ]
     },
     "execution_count": 5,
     "metadata": {},
     "output_type": "execute_result"
    }
   ],
   "source": [
    "abs_pathfile = os.path.join(PATH, files[n])\n",
    "\n",
    "pol_cel = get_vert(abs_pathfile, COLOR['C'])\n",
    "boundbox_pol(pol_cel[0], slide.dimensions)"
   ]
  },
  {
   "cell_type": "code",
   "execution_count": 6,
   "id": "64efa735",
   "metadata": {},
   "outputs": [
    {
     "name": "stdout",
     "output_type": "stream",
     "text": [
      "Rojas\n",
      "679\n",
      "3092\n",
      "1726\n",
      "1632\n",
      "\n",
      "Verdes\n",
      "93\n",
      "649\n",
      "427\n",
      "187\n",
      "102\n",
      "161\n",
      "608\n",
      "987\n",
      "225\n",
      "1057\n",
      "164\n",
      "249\n",
      "\n"
     ]
    },
    {
     "data": {
      "text/plain": [
       "(list, numpy.ndarray)"
      ]
     },
     "execution_count": 6,
     "metadata": {},
     "output_type": "execute_result"
    }
   ],
   "source": [
    "pol_r, pol_v = get_vert(abs_pathfile, COLOR['R']), get_vert(abs_pathfile, COLOR['V'])\n",
    "for a,b in zip(['Rojas', 'Verdes'], [pol_r, pol_v]):\n",
    "    print(a)\n",
    "    for pol in b:\n",
    "        print(len(pol))\n",
    "    print('')\n",
    "type(pol_r), type(pol_r[0])"
   ]
  },
  {
   "cell_type": "markdown",
   "id": "c63c127b",
   "metadata": {},
   "source": [
    "Solo nos enfocamos en la bounding box para realizar una máscara, para verificar la correcta extracción de datos del archivo .xml"
   ]
  },
  {
   "cell_type": "code",
   "execution_count": 7,
   "id": "ae373484",
   "metadata": {},
   "outputs": [],
   "source": [
    "#w,h = slide.dimensions\n",
    "w = 32745-494\n",
    "h = 16290\n",
    "\n",
    "def update_coord(poligonos, x=0, y=0):\n",
    "    return [np.array([(punto[0]-x, punto[1]-y) for punto in poligono], dtype=np.int32) for poligono in poligonos]\n"
   ]
  },
  {
   "cell_type": "code",
   "execution_count": 8,
   "id": "650d4e8a",
   "metadata": {},
   "outputs": [
    {
     "data": {
      "text/plain": [
       "True"
      ]
     },
     "execution_count": 8,
     "metadata": {},
     "output_type": "execute_result"
    }
   ],
   "source": [
    "img = whole_mask(update_coord(pol_r, x=494), size=(w,h))\n",
    "cv2.imwrite('mask_r.png', img)"
   ]
  },
  {
   "cell_type": "code",
   "execution_count": 9,
   "id": "4158c898",
   "metadata": {},
   "outputs": [
    {
     "data": {
      "text/plain": [
       "True"
      ]
     },
     "execution_count": 9,
     "metadata": {},
     "output_type": "execute_result"
    }
   ],
   "source": [
    "img=whole_mask(update_coord(pol_v, x=494), size=(w,h))\n",
    "cv2.imwrite('mask_v.png', img)"
   ]
  }
 ],
 "metadata": {
  "kernelspec": {
   "display_name": "Python 3 (ipykernel)",
   "language": "python",
   "name": "python3"
  },
  "language_info": {
   "codemirror_mode": {
    "name": "ipython",
    "version": 3
   },
   "file_extension": ".py",
   "mimetype": "text/x-python",
   "name": "python",
   "nbconvert_exporter": "python",
   "pygments_lexer": "ipython3",
   "version": "3.10.12"
  }
 },
 "nbformat": 4,
 "nbformat_minor": 5
}
